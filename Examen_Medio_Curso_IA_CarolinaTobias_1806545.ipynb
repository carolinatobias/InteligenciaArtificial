{
  "nbformat": 4,
  "nbformat_minor": 0,
  "metadata": {
    "colab": {
      "name": "Examen-Medio-Curso-IA-CarolinaTobias_1806545.ipynb",
      "provenance": [],
      "collapsed_sections": [],
      "authorship_tag": "ABX9TyMSd1rFhx5aJc4EfP54Wnwt",
      "include_colab_link": true
    },
    "kernelspec": {
      "name": "python3",
      "display_name": "Python 3"
    },
    "language_info": {
      "name": "python"
    }
  },
  "cells": [
    {
      "cell_type": "markdown",
      "metadata": {
        "id": "view-in-github",
        "colab_type": "text"
      },
      "source": [
        "<a href=\"https://colab.research.google.com/github/carolinatobias/InteligenciaArtificial/blob/main/Examen_Medio_Curso_IA_CarolinaTobias_1806545.ipynb\" target=\"_parent\"><img src=\"https://colab.research.google.com/assets/colab-badge.svg\" alt=\"Open In Colab\"/></a>"
      ]
    },
    {
      "cell_type": "markdown",
      "metadata": {
        "id": "WR0u5rBBLz9C"
      },
      "source": [
        "Carolina Monserrat Tobías García\n",
        "1806545\n",
        "Examen medio curso inteligencia artificial\n",
        "Jueves N4"
      ]
    },
    {
      "cell_type": "markdown",
      "metadata": {
        "id": "R3ns3IgvCzFp"
      },
      "source": [
        "1. Desarrollar un programa que,\n",
        "- Remueva los números pares de la lista:\n",
        "   ex_lista = [10, 15, 17, 21, 22, 34, 37, 40, 45, 52, 66, 68, 81, 84, 91, 94, 102, 105, 109]\n",
        "- Imprima la lista después de remover los números pares. \n",
        "\n"
      ]
    },
    {
      "cell_type": "code",
      "metadata": {
        "colab": {
          "base_uri": "https://localhost:8080/"
        },
        "id": "TYq1h1nxCuBU",
        "outputId": "2abaabd4-7536-4019-b368-90d743bc3f88"
      },
      "source": [
        "lista = [10, 15, 17, 21, 22, 34, 37, 40, 45, 52, 66, 68, 81, 84, 91, 94, 102, 105, 109]\n",
        "for imp in lista:\n",
        " if imp % 2 != 0:\n",
        "    print(imp)    \n"
      ],
      "execution_count": 23,
      "outputs": [
        {
          "output_type": "stream",
          "name": "stdout",
          "text": [
            "15\n",
            "17\n",
            "21\n",
            "37\n",
            "45\n",
            "81\n",
            "91\n",
            "105\n",
            "109\n"
          ]
        }
      ]
    },
    {
      "cell_type": "markdown",
      "metadata": {
        "id": "6iS7lpaPGIQx"
      },
      "source": [
        "2. Desarrollar un programa que,\n",
        "- Pregunte al usuario por sus 5 películas favoritas (dato tipo string), empezando por la mas favorita y terminando en la posición 5 con la menos favorita. \n",
        "- Almacene estos datos en una lista. \n",
        "- Por último, iterar sobre la lista generada para imprimir 5 oraciones (1 con cada título de película) que digan: \"La película [TÍTULO DE PELÍCULA] está en la posición [índice+1] de mi top 5\". \n",
        "      . TÍTULO DE PELÍCULA: corresponde a los nombres almacenados previamente en su lista. \n",
        "      . Recordatorio: Índice es la posición de un elemento dentro de una lista. \n",
        "      "
      ]
    },
    {
      "cell_type": "code",
      "metadata": {
        "colab": {
          "base_uri": "https://localhost:8080/"
        },
        "id": "ZX2FDmIqGOn5",
        "outputId": "58296df9-89b7-4a45-b219-55f7343890fc"
      },
      "source": [
        "p1 = str(input(\"ingrese sus 5 peliculas favoritas: 1. \"))\n",
        "p2 = str(input(\"2. \"))\n",
        "p3 = str(input(\"3. \"))\n",
        "p4 = str(input(\"4. \"))\n",
        "p5 = str(input(\"5. \"))\n",
        "lista_pel = [p1, p2, p3, p4, p5]\n",
        "i=0\n",
        "while i < 5:\n",
        " for x in lista_pel:\n",
        "  print(\"La película \" + x + \" está en la posición \" + repr(i+1) + \" de mi top 5\")\n",
        "  i += 1"
      ],
      "execution_count": 39,
      "outputs": [
        {
          "output_type": "stream",
          "name": "stdout",
          "text": [
            "ingrese sus 5 peliculas favoritas: 1. Gilbert Grape\n",
            "2. El rey león\n",
            "3. Busqueda implacable\n",
            "4. Desde mi cielo\n",
            "5. Fathers and daughters\n",
            "La película Gilbert Grape está en la posición 1 de mi top 5\n",
            "La película El rey león está en la posición 2 de mi top 5\n",
            "La película Busqueda implacable está en la posición 3 de mi top 5\n",
            "La película Desde mi cielo está en la posición 4 de mi top 5\n",
            "La película Fathers and daughters está en la posición 5 de mi top 5\n"
          ]
        }
      ]
    }
  ]
}