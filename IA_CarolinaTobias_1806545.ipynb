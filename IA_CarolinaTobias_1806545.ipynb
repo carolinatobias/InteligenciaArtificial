{
  "nbformat": 4,
  "nbformat_minor": 0,
  "metadata": {
    "colab": {
      "name": "IA_CarolinaTobias_1806545.ipynb",
      "provenance": [],
      "authorship_tag": "ABX9TyMI2GzoHrPKjzLpieVlNWNJ",
      "include_colab_link": true
    },
    "kernelspec": {
      "name": "python3",
      "display_name": "Python 3"
    },
    "language_info": {
      "name": "python"
    }
  },
  "cells": [
    {
      "cell_type": "markdown",
      "metadata": {
        "id": "view-in-github",
        "colab_type": "text"
      },
      "source": [
        "<a href=\"https://colab.research.google.com/github/carolinatobias/InteligenciaArtificial/blob/main/IA_CarolinaTobias_1806545.ipynb\" target=\"_parent\"><img src=\"https://colab.research.google.com/assets/colab-badge.svg\" alt=\"Open In Colab\"/></a>"
      ]
    },
    {
      "cell_type": "markdown",
      "metadata": {
        "id": "r-vDFiSsNkjl"
      },
      "source": [
        "Actividad 3. Ejercicios de  introducción a Phyton 2da parte\n",
        "\n",
        " Nombre: Carolina Monserrat Tobías García\n",
        "\n",
        " Matrícula: 1806545\n",
        " \n",
        " Clase y hora: Inteligencia Artificial Jueves N4"
      ]
    },
    {
      "cell_type": "markdown",
      "metadata": {
        "id": "Nz2CV4pYtq-t"
      },
      "source": [
        "Ejercicio 1:\n",
        "1.1 Piensa en 7 comidas diferente que te gusten. Implementa un programa que pregunte por las 7 comidas, las almacene en una lista y que posteriermente imprima cada una de ellas utilizando uno de los ciclos comentados en clase"
      ]
    },
    {
      "cell_type": "code",
      "metadata": {
        "colab": {
          "base_uri": "https://localhost:8080/"
        },
        "id": "Vihsf--cNj1N",
        "outputId": "17c48866-db8e-4675-d9cf-129d68ea0258"
      },
      "source": [
        "comida1 = input(\"Ingrese 7 comidas distintas. 1: \")\n",
        "comida2 = input(\"2: \")\n",
        "comida3 = input(\"3: \")\n",
        "comida4 = input(\"4: \")\n",
        "comida5 = input(\"5: \")\n",
        "comida6 = input(\"6: \")\n",
        "comida7 = input(\"7: \")\n",
        "lista = [comida1, comida2, comida3, comida4, comida5, comida6, comida7]\n",
        "for x in lista:\n",
        "  print(x)"
      ],
      "execution_count": 20,
      "outputs": [
        {
          "output_type": "stream",
          "name": "stdout",
          "text": [
            "Ingrese 7 comidas distintas. 1: Pollo\n",
            "2: aguacate\n",
            "3: mango\n",
            "4: naranja\n",
            "5: fresa\n",
            "6: tacos\n",
            "7: cereal\n",
            "Pollo\n",
            "aguacate\n",
            "mango\n",
            "naranja\n",
            "fresa\n",
            "tacos\n",
            "cereal\n"
          ]
        }
      ]
    },
    {
      "cell_type": "markdown",
      "metadata": {
        "id": "B6zvO1L_twFZ"
      },
      "source": [
        "1.2 Modifica el ejercicio 1.1 para que imprima cada una de las comidas favoritas junto con una oracición inicial: \"Una de mis comidas favoritas es [comida1]\".  \n"
      ]
    },
    {
      "cell_type": "code",
      "metadata": {
        "colab": {
          "base_uri": "https://localhost:8080/"
        },
        "id": "0NFNjCg3PSoU",
        "outputId": "6dad6d91-4c58-4c86-fdb9-7db77dfbbc30"
      },
      "source": [
        "comida1 = input(\"Ingrese 7 comidas distintas. 1: \")\n",
        "comida2 = input(\"2: \")\n",
        "comida3 = input(\"3: \")\n",
        "comida4 = input(\"4: \")\n",
        "comida5 = input(\"5: \")\n",
        "comida6 = input(\"6: \")\n",
        "comida7 = input(\"7: \")\n",
        "lista = [comida1, comida2, comida3, comida4, comida5, comida6, comida7]\n",
        "for x in lista:\n",
        "   print(\"una de mis comidas favorits es: \" +x)"
      ],
      "execution_count": 21,
      "outputs": [
        {
          "output_type": "stream",
          "name": "stdout",
          "text": [
            "Ingrese 7 comidas distintas. 1: Taco\n",
            "2: mango\n",
            "3: fresa\n",
            "4: melón\n",
            "5: pollo\n",
            "6: boneless\n",
            "7: barbacoa\n",
            "una de mis comidas favorits es: Taco\n",
            "una de mis comidas favorits es: mango\n",
            "una de mis comidas favorits es: fresa\n",
            "una de mis comidas favorits es: melón\n",
            "una de mis comidas favorits es: pollo\n",
            "una de mis comidas favorits es: boneless\n",
            "una de mis comidas favorits es: barbacoa\n"
          ]
        }
      ]
    },
    {
      "cell_type": "markdown",
      "metadata": {
        "id": "gXzcSPket0-s"
      },
      "source": [
        "Ejercicio 2\n",
        "Crear un juego de piedra, papel o tijera de dos jugadores. El programa preguntará por la opción del jugador 1 y la opción del jugador 2 y dará como resultado quien ganó el juego."
      ]
    },
    {
      "cell_type": "code",
      "metadata": {
        "colab": {
          "base_uri": "https://localhost:8080/"
        },
        "id": "dL5G8ogcphIT",
        "outputId": "03a14f86-3b91-407b-c58a-8d4d4aa62e2a"
      },
      "source": [
        "print(\"Juego: piedra papel o tijera\")\n",
        "print(\"1.Piedra    2.Papel    3.Tijera\")\n",
        "op1 = int(input(\"Jugador 1, ingrese su elección: \"))\n",
        "op2 = int(input(\"Jugador 2, ingrese su elección: \"))\n",
        "\n",
        "if op1 == 1:\n",
        "   j1 = \"piedra\"\n",
        "elif op1 == 2:\n",
        "   j1 = \"papel\"\n",
        "elif op1 == 3:\n",
        "   j1 = \"tijera\"\n",
        "\n",
        "if op2 == 1:\n",
        "   j2 = \"piedra\"\n",
        "elif op2 == 2:\n",
        "   j2 = \"papel\"\n",
        "elif op2 == 3:\n",
        "   j2 = \"tijera\"\n",
        "\n",
        "if j1 == \"piedra\" and j2== \"papel\" :\n",
        "    print(\"Ganador: jugador 2\")\n",
        "elif j1 == \"papel\" and j2 == \"tijera\" :\n",
        "    print(\"Ganador: jugador 2\")\n",
        "elif j1 == \"tijera\" and j2== \"piedra\" : \n",
        "    print(\"Ganador: jugador 2\")\n",
        "if j1 == \"papel\" and j2== \"piedra\" :\n",
        "    print(\"Ganador: jugador 1\")\n",
        "elif j1 == \"tijera\" and j2 == \"papel\" :\n",
        "    print(\"Ganador: jugador 1\")\n",
        "elif j1 == \"piedra\" and j2== \"tijera\" :\n",
        "    print(\"Ganador: jugador 1\")\n",
        "elif j1 == j2: \n",
        "    print(\"empate\")"
      ],
      "execution_count": 17,
      "outputs": [
        {
          "output_type": "stream",
          "name": "stdout",
          "text": [
            "Juego: piedra papel o tijera\n",
            "1.Piedra    2.Papel    3.Tijera\n",
            "Jugador 1, ingrese su elección: 3\n",
            "Jugador 2, ingrese su elección: 1\n",
            "Ganador: jugador 2\n"
          ]
        }
      ]
    },
    {
      "cell_type": "code",
      "metadata": {
        "id": "OOcNotSksZG7"
      },
      "source": [
        ""
      ],
      "execution_count": null,
      "outputs": []
    },
    {
      "cell_type": "markdown",
      "metadata": {
        "id": "jaYHJOXGt5TO"
      },
      "source": [
        "Implementar un programa que imprima el siguiente patron:\n",
        "\n",
        "123456\n",
        "\n",
        "12345\n",
        "\n",
        "1234\n",
        "\n",
        "123\n",
        "\n",
        "12\n",
        "\n",
        "1\n",
        "\n",
        "12\n",
        "\n",
        "123\n",
        "\n",
        "1234\n",
        "\n",
        "12345\n",
        "\n",
        "123456"
      ]
    },
    {
      "cell_type": "code",
      "metadata": {
        "colab": {
          "base_uri": "https://localhost:8080/"
        },
        "id": "Cb70mKWrsZfX",
        "outputId": "3fbe3be1-4ecd-4bf5-a6d6-ff2aa63af1fc"
      },
      "source": [
        "lista=[1,2,3,4,5,6]\n",
        "print(lista)\n",
        "print(lista[:5])\n",
        "print(lista[:4])\n",
        "print(lista[:3])\n",
        "print(lista[:2])\n",
        "print(lista[:1])\n",
        "print(lista[:2])\n",
        "print(lista[:3])\n",
        "print(lista[:4])\n",
        "print(lista[:5])\n",
        "print(lista)"
      ],
      "execution_count": 19,
      "outputs": [
        {
          "output_type": "stream",
          "name": "stdout",
          "text": [
            "[1, 2, 3, 4, 5, 6]\n",
            "[1, 2, 3, 4, 5]\n",
            "[1, 2, 3, 4]\n",
            "[1, 2, 3]\n",
            "[1, 2]\n",
            "[1]\n",
            "[1, 2]\n",
            "[1, 2, 3]\n",
            "[1, 2, 3, 4]\n",
            "[1, 2, 3, 4, 5]\n",
            "[1, 2, 3, 4, 5, 6]\n"
          ]
        }
      ]
    }
  ]
}