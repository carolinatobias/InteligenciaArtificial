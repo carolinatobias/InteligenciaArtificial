{
  "nbformat": 4,
  "nbformat_minor": 0,
  "metadata": {
    "colab": {
      "name": "IA_Ejercicio1_CarolinaTobias_1806545.ipynb",
      "provenance": [],
      "collapsed_sections": [],
      "authorship_tag": "ABX9TyM9MZuBKvfQO3iFyTTvFk3B",
      "include_colab_link": true
    },
    "kernelspec": {
      "name": "python3",
      "display_name": "Python 3"
    },
    "language_info": {
      "name": "python"
    }
  },
  "cells": [
    {
      "cell_type": "markdown",
      "metadata": {
        "id": "view-in-github",
        "colab_type": "text"
      },
      "source": [
        "<a href=\"https://colab.research.google.com/github/carolinatobias/InteligenciaArtificial/blob/main/IA_Ejercicio1_CarolinaTobias_1806545.ipynb\" target=\"_parent\"><img src=\"https://colab.research.google.com/assets/colab-badge.svg\" alt=\"Open In Colab\"/></a>"
      ]
    },
    {
      "cell_type": "markdown",
      "metadata": {
        "id": "ViwzMG3oCGca"
      },
      "source": [
        "Actividad 2.- Ejercicios Introducción Python\n",
        "    \n",
        "    nombre: Carolina Monserrat Tobías García\n",
        "    matrícula: 1806545\n",
        "    hora: JueN4\n",
        "  \n",
        "\n"
      ]
    },
    {
      "cell_type": "markdown",
      "metadata": {
        "id": "Cgug3WPoRnTY"
      },
      "source": [
        "Ejercicio N°1. Crear un programa que pregunte al usuario por su nombre, edad, una frase favorita y autor de la frase favorita. El programa deberá de imprimir un mensaje compuesto por el nombre y edad del usuario diciendo que su frase favorita es la que dió anteriormente y el autor de dicha frase es el nombre previamente dado. Aquí habrá que realizar una concatenación de variables. "
      ]
    },
    {
      "cell_type": "code",
      "metadata": {
        "colab": {
          "base_uri": "https://localhost:8080/"
        },
        "id": "N1iCXPbcCBF6",
        "outputId": "456539ac-7247-4b4e-f053-0f0d2450e2e5"
      },
      "source": [
        "nom = input(\"Por favor, escriba su nombre: \") #pedir al usuario que ingrese su nombre\n",
        "edad = input(\"Por favor, escriba su edad: \") #pedir al usuario que ingrese su edad\n",
        "frase = input(\"Por favor, escriba su frase favorita\") #pedir al usuario que ingrese su frase favorita\n",
        "aut = input(\"Por favor, escriba el nombre del autor de la frase anterior: \") #pedir al usuario que ingrese el nombre del autor\n",
        "a = \" tiene \" # declarar variable \"a\" y asignarle un texto\n",
        "b = \" años. Su frase favorita está escrita por \" # declarar variable \"b\" y asignarle un texto\n",
        "c = \" y es: \" # declarar variable \"c\" y asignarle un texto\n",
        "print(nom + a + edad + b + aut + \" y es: \" + frase) #concatenar variables para generar el texto completo"
      ],
      "execution_count": 19,
      "outputs": [
        {
          "output_type": "stream",
          "name": "stdout",
          "text": [
            "Por favor, escriba su nombre: Carolina\n",
            "Por favor, escriba su edad: 21\n",
            "Por favor, escriba su frase favorita\" Pero es precisamente el debil quien debe ser fuerte y saber marcharse cuando el fuerte es demasiado debil para ser capaz de hacerle daño al débil\"\n",
            "Por favor, escriba el nombre del autor de la frase anterior: Milan Kundera\n",
            "Carolina tiene 21 años. Su frase favorita está escrita por Milan Kundera y es: \" Pero es precisamente el debil quien debe ser fuerte y saber marcharse cuando el fuerte es demasiado debil para ser capaz de hacerle daño al débil\"\n"
          ]
        }
      ]
    },
    {
      "cell_type": "markdown",
      "metadata": {
        "id": "dsrt_ZsoTQuK"
      },
      "source": [
        "Ejercicio N°2. Crear un programa que le pida al usuario capturar dos números enteros y dos números flotantes. Después, realizará la suma, resta, multiplicación y división, de ambos pares de números. Como resultado se deberán de obtener 8 valores. Imprimir todos estos reultados."
      ]
    },
    {
      "cell_type": "code",
      "metadata": {
        "colab": {
          "base_uri": "https://localhost:8080/"
        },
        "id": "E15Orag6CrFI",
        "outputId": "da29e5e8-fb81-4461-acc6-70ae5d1432b1"
      },
      "source": [
        "#pedir al usuario que ingrese dos numeros enteros\n",
        "ent1 = int(input(\"ingrese un número entero: \")) \n",
        "ent2 = int(input(\"ingrese otro número entero: \"))\n",
        "#pedir al usuario que ingrese dos numeros flotantes\n",
        "flot1 = float(input(\"ingrese un número flotante (con decimales): \"))\n",
        "flot2 = float(input(\"ingrese otro número flotante (con decimales): \"))\n",
        "#suma, resta, multiplicación y division de los dos numeros enteros. Asignar una variable a cada resultado\n",
        "sumaent = (ent1 + ent2)\n",
        "restaent = (ent1-ent2)\n",
        "divent = (ent1 / ent2)\n",
        "multent = (ent1*ent2)\n",
        "#suma, resta, multiplicación y division de los dos numeros flotantes. Asignar una variable a cada resultado\n",
        "sumaflot = (flot1+flot2)\n",
        "restaflot = (flot1-flot2)\n",
        "divflot = (flot1/flot2)\n",
        "multflot = (flot1*flot2)\n",
        "#imprimir cadaa resulado\n",
        "print(\"La suma de los números enteros es: \", sumaent)\n",
        "print(\"La resta de los números enteros es: \", restaent)\n",
        "print(\"La division de los números enteros es: \", divent)\n",
        "print(\"La multiplicación de los números enteros es: \", multent)\n",
        "print(\"La suma de los números flotantes es: \", sumaflot)\n",
        "print(\"La resta de los números flotantes es: \", restaflot)\n",
        "print(\"La division de los números flotantes es: \", divflot)\n",
        "print(\"La multiplicación de los números flotantes es: \", multflot)"
      ],
      "execution_count": 20,
      "outputs": [
        {
          "output_type": "stream",
          "name": "stdout",
          "text": [
            "ingrese un número entero: 10\n",
            "ingrese otro número entero: 2\n",
            "ingrese un número flotante (con decimales): 10.5\n",
            "ingrese otro número flotante (con decimales): 2.5\n",
            "La suma de los números enteros es:  12\n",
            "La resta de los números enteros es:  8\n",
            "La division de los números enteros es:  5.0\n",
            "La multiplicación de los números enteros es:  20\n",
            "La suma de los números flotantes es:  13.0\n",
            "La resta de los números flotantes es:  8.0\n",
            "La division de los números flotantes es:  4.2\n",
            "La multiplicación de los números flotantes es:  26.25\n"
          ]
        }
      ]
    },
    {
      "cell_type": "markdown",
      "metadata": {
        "id": "eTOkp19BTZaD"
      },
      "source": [
        "Ejercicio N°3. Crear un programa que evalúe dos expresiones lógicas con `and`, dos con `or` y dos con `not`. Cada expresión deberá hacer uso de operadores de comparación. "
      ]
    },
    {
      "cell_type": "code",
      "metadata": {
        "colab": {
          "base_uri": "https://localhost:8080/"
        },
        "id": "Bc7EyBctRksB",
        "outputId": "80b2582d-cfad-479d-f470-58b77907c359"
      },
      "source": [
        "x= 10\n",
        "y = 5\n",
        "z = 50\n",
        "print(y>x and x==(2*y)) #5>10   = falso      10 = 2*5  = verdadero,   falso Y verdadero     = FALSE\n",
        "print(y<x and z==(x*y)) #5<10   = verdadero  50 = 10*5 = verdadero,   verdadero Y verdadero = TRUE\n",
        "print(x==y or z+y == x) #10=5   = falso      50+5=10   = falso,       falso O falso         = FALSE   \n",
        "print(z<y or z/y == x)  #50<5   = falso      50/5=10   = verdadero,   falso O verdadero     = TRUE\n",
        "print(not (z/x == y))   #50/10=5= verdadero                           NOT verdadero         = FALSE \n",
        "print(not (x>z))        #10>50  = falso                               NOT falso             = TRUE"
      ],
      "execution_count": 21,
      "outputs": [
        {
          "output_type": "stream",
          "name": "stdout",
          "text": [
            "False\n",
            "True\n",
            "False\n",
            "True\n",
            "False\n",
            "True\n"
          ]
        }
      ]
    }
  ]
}