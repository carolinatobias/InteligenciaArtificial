{
  "nbformat": 4,
  "nbformat_minor": 0,
  "metadata": {
    "colab": {
      "name": "PIAIA59.ipynb",
      "provenance": [],
      "collapsed_sections": [],
      "authorship_tag": "ABX9TyMySiNZAjCKdLN1v+tPtAFO",
      "include_colab_link": true
    },
    "kernelspec": {
      "name": "python3",
      "display_name": "Python 3"
    },
    "language_info": {
      "name": "python"
    },
    "accelerator": "GPU"
  },
  "cells": [
    {
      "cell_type": "markdown",
      "metadata": {
        "id": "view-in-github",
        "colab_type": "text"
      },
      "source": [
        "<a href=\"https://colab.research.google.com/github/carolinatobias/InteligenciaArtificial/blob/main/PIAIA59.ipynb\" target=\"_parent\"><img src=\"https://colab.research.google.com/assets/colab-badge.svg\" alt=\"Open In Colab\"/></a>"
      ]
    },
    {
      "cell_type": "markdown",
      "metadata": {
        "id": "yBuFy-0QFNhg"
      },
      "source": [
        " **PRODUCTO INTEGRADOR DE APRENDIZAJE**\n",
        "\n",
        "Carolina monserrat Tobía García 1806545\n",
        "Carlos Iván Ortiz Galván 1849283\n",
        "Oscar Daniel García Juárez 1844282\n",
        "Fabiola Alejandra Fabela Alvarado 1846452 \n",
        "Sebastián Alejandro Solis Quiróz 1816855 \n",
        "Oscar Josemario Gamboa Ortega 1867917\n",
        "\n",
        "Inteligencia Artificial Jueves N4"
      ]
    },
    {
      "cell_type": "code",
      "metadata": {
        "id": "Ots_gddLFKrF"
      },
      "source": [
        "import tensorflow as tf\n",
        "\n",
        "from tensorflow.keras import datasets, layers, models\n",
        "from keras.layers import Conv2D, Dense, MaxPooling2D, Flatten\n",
        "import matplotlib.pyplot as plt\n",
        "import numpy as np"
      ],
      "execution_count": null,
      "outputs": []
    },
    {
      "cell_type": "code",
      "metadata": {
        "colab": {
          "base_uri": "https://localhost:8080/"
        },
        "id": "C_GuiiN5FOVb",
        "outputId": "3edfc64b-162b-4ffb-9b63-6a24179ba392"
      },
      "source": [
        "import keras\n",
        "from keras.datasets import cifar100\n",
        "(train_images, train_labels), (test_images, test_labels) = datasets.cifar100.load_data(label_mode='coarse')\n",
        "train_images = train_images / 255.0\n",
        "test_images = test_images / 255.0"
      ],
      "execution_count": null,
      "outputs": [
        {
          "output_type": "stream",
          "name": "stdout",
          "text": [
            "Downloading data from https://www.cs.toronto.edu/~kriz/cifar-100-python.tar.gz\n",
            "169009152/169001437 [==============================] - 3s 0us/step\n",
            "169017344/169001437 [==============================] - 3s 0us/step\n"
          ]
        }
      ]
    },
    {
      "cell_type": "code",
      "metadata": {
        "colab": {
          "base_uri": "https://localhost:8080/"
        },
        "id": "vRT7DBU0FOBE",
        "outputId": "9b5c12df-aa38-43c8-dbf6-e1c951171d11"
      },
      "source": [
        "model = models.Sequential()\n",
        "model.add(layers.Conv2D(256, (3,3), activation='relu', input_shape=(32, 32, 3)))\n",
        "model.add(layers.MaxPooling2D(2, 2))\n",
        "model.add(layers.Conv2D(256, (3,3), activation='relu'))\n",
        "model.add(layers.MaxPooling2D(2,2))\n",
        "model.add(layers.Conv2D(256, (3,3), activation='relu'))\n",
        "model.add(layers.MaxPooling2D(2, 2))\n",
        "\n",
        "model.add(layers.Flatten())\n",
        "model.add(layers.Dropout(0.5))\n",
        "model.add(layers.Dense(512, activation='relu'))\n",
        "model.add(layers.Dense(20))\n",
        "model.summary()"
      ],
      "execution_count": null,
      "outputs": [
        {
          "output_type": "stream",
          "name": "stdout",
          "text": [
            "Model: \"sequential\"\n",
            "_________________________________________________________________\n",
            " Layer (type)                Output Shape              Param #   \n",
            "=================================================================\n",
            " conv2d (Conv2D)             (None, 30, 30, 256)       7168      \n",
            "                                                                 \n",
            " max_pooling2d (MaxPooling2D  (None, 15, 15, 256)      0         \n",
            " )                                                               \n",
            "                                                                 \n",
            " conv2d_1 (Conv2D)           (None, 13, 13, 256)       590080    \n",
            "                                                                 \n",
            " max_pooling2d_1 (MaxPooling  (None, 6, 6, 256)        0         \n",
            " 2D)                                                             \n",
            "                                                                 \n",
            " conv2d_2 (Conv2D)           (None, 4, 4, 256)         590080    \n",
            "                                                                 \n",
            " max_pooling2d_2 (MaxPooling  (None, 2, 2, 256)        0         \n",
            " 2D)                                                             \n",
            "                                                                 \n",
            " flatten (Flatten)           (None, 1024)              0         \n",
            "                                                                 \n",
            " dropout (Dropout)           (None, 1024)              0         \n",
            "                                                                 \n",
            " dense (Dense)               (None, 512)               524800    \n",
            "                                                                 \n",
            " dense_1 (Dense)             (None, 20)                10260     \n",
            "                                                                 \n",
            "=================================================================\n",
            "Total params: 1,722,388\n",
            "Trainable params: 1,722,388\n",
            "Non-trainable params: 0\n",
            "_________________________________________________________________\n"
          ]
        }
      ]
    },
    {
      "cell_type": "code",
      "metadata": {
        "colab": {
          "base_uri": "https://localhost:8080/"
        },
        "id": "TXeCs8lCFzAW",
        "outputId": "be09a89b-13ea-469a-b101-b21d8ef4118b"
      },
      "source": [
        "model.compile(loss =tf.keras.losses.SparseCategoricalCrossentropy(from_logits=True), optimizer='rmsprop', metrics=['accuracy'])\n",
        "\n",
        "history=model.fit(train_images, train_labels, epochs=25, batch_size=200,\n",
        "                  validation_data=(test_images, test_labels))"
      ],
      "execution_count": null,
      "outputs": [
        {
          "output_type": "stream",
          "name": "stdout",
          "text": [
            "Epoch 1/25\n",
            "250/250 [==============================] - 51s 78ms/step - loss: 2.6966 - accuracy: 0.1707 - val_loss: 2.4150 - val_accuracy: 0.2562\n",
            "Epoch 2/25\n",
            "250/250 [==============================] - 19s 76ms/step - loss: 2.3114 - accuracy: 0.2891 - val_loss: 2.1869 - val_accuracy: 0.3257\n",
            "Epoch 3/25\n",
            "250/250 [==============================] - 19s 77ms/step - loss: 2.1056 - accuracy: 0.3498 - val_loss: 2.0620 - val_accuracy: 0.3669\n",
            "Epoch 4/25\n",
            "250/250 [==============================] - 19s 76ms/step - loss: 1.9534 - accuracy: 0.3985 - val_loss: 1.8514 - val_accuracy: 0.4277\n",
            "Epoch 5/25\n",
            "250/250 [==============================] - 19s 77ms/step - loss: 1.8209 - accuracy: 0.4349 - val_loss: 1.8081 - val_accuracy: 0.4432\n",
            "Epoch 6/25\n",
            "250/250 [==============================] - 19s 77ms/step - loss: 1.7160 - accuracy: 0.4641 - val_loss: 1.6089 - val_accuracy: 0.5018\n",
            "Epoch 7/25\n",
            "250/250 [==============================] - 19s 76ms/step - loss: 1.6359 - accuracy: 0.4887 - val_loss: 1.6041 - val_accuracy: 0.5000\n",
            "Epoch 8/25\n",
            "250/250 [==============================] - 19s 77ms/step - loss: 1.5500 - accuracy: 0.5169 - val_loss: 1.6246 - val_accuracy: 0.4905\n",
            "Epoch 9/25\n",
            "250/250 [==============================] - 19s 77ms/step - loss: 1.4764 - accuracy: 0.5348 - val_loss: 1.4679 - val_accuracy: 0.5421\n",
            "Epoch 10/25\n",
            "250/250 [==============================] - 19s 77ms/step - loss: 1.4149 - accuracy: 0.5523 - val_loss: 1.5340 - val_accuracy: 0.5266\n",
            "Epoch 11/25\n",
            "250/250 [==============================] - 19s 77ms/step - loss: 1.3585 - accuracy: 0.5706 - val_loss: 1.4908 - val_accuracy: 0.5408\n",
            "Epoch 12/25\n",
            "250/250 [==============================] - 19s 76ms/step - loss: 1.2933 - accuracy: 0.5878 - val_loss: 1.4354 - val_accuracy: 0.5605\n",
            "Epoch 13/25\n",
            "250/250 [==============================] - 19s 77ms/step - loss: 1.2462 - accuracy: 0.6027 - val_loss: 1.3530 - val_accuracy: 0.5797\n",
            "Epoch 14/25\n",
            "250/250 [==============================] - 19s 77ms/step - loss: 1.1906 - accuracy: 0.6193 - val_loss: 1.3753 - val_accuracy: 0.5705\n",
            "Epoch 15/25\n",
            "250/250 [==============================] - 19s 77ms/step - loss: 1.1457 - accuracy: 0.6311 - val_loss: 1.3446 - val_accuracy: 0.5870\n",
            "Epoch 16/25\n",
            "250/250 [==============================] - 19s 77ms/step - loss: 1.1002 - accuracy: 0.6467 - val_loss: 1.4503 - val_accuracy: 0.5569\n",
            "Epoch 17/25\n",
            "250/250 [==============================] - 19s 77ms/step - loss: 1.0584 - accuracy: 0.6588 - val_loss: 1.3307 - val_accuracy: 0.5874\n",
            "Epoch 18/25\n",
            "250/250 [==============================] - 19s 77ms/step - loss: 1.0259 - accuracy: 0.6692 - val_loss: 1.3856 - val_accuracy: 0.5756\n",
            "Epoch 19/25\n",
            "250/250 [==============================] - 19s 77ms/step - loss: 0.9842 - accuracy: 0.6826 - val_loss: 1.3685 - val_accuracy: 0.5880\n",
            "Epoch 20/25\n",
            "250/250 [==============================] - 19s 76ms/step - loss: 0.9487 - accuracy: 0.6920 - val_loss: 1.3277 - val_accuracy: 0.5954\n",
            "Epoch 21/25\n",
            "250/250 [==============================] - 19s 76ms/step - loss: 0.9118 - accuracy: 0.7040 - val_loss: 1.3740 - val_accuracy: 0.5928\n",
            "Epoch 22/25\n",
            "250/250 [==============================] - 19s 77ms/step - loss: 0.8838 - accuracy: 0.7112 - val_loss: 1.3440 - val_accuracy: 0.5881\n",
            "Epoch 23/25\n",
            "250/250 [==============================] - 19s 77ms/step - loss: 0.8551 - accuracy: 0.7217 - val_loss: 1.3750 - val_accuracy: 0.5942\n",
            "Epoch 24/25\n",
            "250/250 [==============================] - 19s 77ms/step - loss: 0.8339 - accuracy: 0.7279 - val_loss: 1.3892 - val_accuracy: 0.5892\n",
            "Epoch 25/25\n",
            "250/250 [==============================] - 19s 77ms/step - loss: 0.8031 - accuracy: 0.7390 - val_loss: 1.3899 - val_accuracy: 0.5920\n"
          ]
        }
      ]
    },
    {
      "cell_type": "code",
      "metadata": {
        "colab": {
          "base_uri": "https://localhost:8080/",
          "height": 300
        },
        "id": "enUek2BOF0LR",
        "outputId": "41a2fba1-dcc0-4890-b005-784bd36287ad"
      },
      "source": [
        "plt.plot(history.history['accuracy'], label='accuracy')\n",
        "plt.plot(history.history['val_accuracy'], label = 'val_accuracy')\n",
        "plt.xlabel('Epoch')\n",
        "plt.ylabel('Accuracy')\n",
        "plt.ylim([0.1, 1])\n",
        "plt.legend(loc='lower right')\n",
        "\n",
        "test_loss, test_acc = model.evaluate(test_images,  test_labels, verbose=2)"
      ],
      "execution_count": null,
      "outputs": [
        {
          "output_type": "stream",
          "name": "stdout",
          "text": [
            "313/313 - 3s - loss: 1.3899 - accuracy: 0.5920 - 3s/epoch - 9ms/step\n"
          ]
        },
        {
          "output_type": "display_data",
          "data": {
            "image/png": "[encoded data removed]",
            "text/plain": [
              "<Figure size 432x288 with 1 Axes>"
            ]
          },
          "metadata": {
            "needs_background": "light"
          }
        }
      ]
    },
    {
      "cell_type": "code",
      "metadata": {
        "colab": {
          "base_uri": "https://localhost:8080/"
        },
        "id": "hdhnfAncJ1tY",
        "outputId": "888ff716-080e-4006-fce8-d17764ba59d6"
      },
      "source": [
        "print(test_acc)"
      ],
      "execution_count": null,
      "outputs": [
        {
          "output_type": "stream",
          "name": "stdout",
          "text": [
            "0.5920000076293945\n"
          ]
        }
      ]
    },
    {
      "cell_type": "code",
      "metadata": {
        "id": "rKRe0MFqJ4Tt"
      },
      "source": [
        ""
      ],
      "execution_count": null,
      "outputs": []
    }
  ]
}