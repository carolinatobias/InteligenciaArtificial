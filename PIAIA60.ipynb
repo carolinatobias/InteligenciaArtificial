{
  "nbformat": 4,
  "nbformat_minor": 0,
  "metadata": {
    "colab": {
      "name": "PIAIA60.ipynb",
      "provenance": [],
      "collapsed_sections": [],
      "authorship_tag": "ABX9TyPisNrlXJIeDY8v77v7Wdmw",
      "include_colab_link": true
    },
    "kernelspec": {
      "name": "python3",
      "display_name": "Python 3"
    },
    "language_info": {
      "name": "python"
    },
    "accelerator": "GPU"
  },
  "cells": [
    {
      "cell_type": "markdown",
      "metadata": {
        "id": "view-in-github",
        "colab_type": "text"
      },
      "source": [
        "<a href=\"https://colab.research.google.com/github/carolinatobias/InteligenciaArtificial/blob/main/PIAIA60.ipynb\" target=\"_parent\"><img src=\"https://colab.research.google.com/assets/colab-badge.svg\" alt=\"Open In Colab\"/></a>"
      ]
    },
    {
      "cell_type": "markdown",
      "metadata": {
        "id": "P1Ar5lamIpDP"
      },
      "source": [
        "PRODUCTO INTEGRADOR DE APRENDIZAJE\n",
        "\n",
        "Carolina monserrat Tobía García 1806545 Carlos Iván Ortiz Galván 1849283 Oscar Daniel García Juárez 1844282 Fabiola Alejandra Fabela Alvarado 1846452 Sebastián Alejandro Solis Quiróz 1816855 Oscar Josemario Gamboa Ortega 1867917\n",
        "\n",
        "Inteligencia Artificial Jueves N4"
      ]
    },
    {
      "cell_type": "code",
      "metadata": {
        "id": "bzfl7iNNInu8"
      },
      "source": [
        "import tensorflow as tf\n",
        "\n",
        "from tensorflow.keras import datasets, layers, models\n",
        "from keras.layers import Conv2D, Dense, MaxPooling2D, Flatten\n",
        "import matplotlib.pyplot as plt\n",
        "import numpy as np"
      ],
      "execution_count": null,
      "outputs": []
    },
    {
      "cell_type": "code",
      "metadata": {
        "id": "zDJnZ6xWIuju"
      },
      "source": [
        "import keras\n",
        "from keras.datasets import cifar100\n",
        "(train_images, train_labels), (test_images, test_labels) = datasets.cifar100.load_data(label_mode='coarse')\n",
        "train_images = train_images / 255.0\n",
        "test_images = test_images / 255.0"
      ],
      "execution_count": null,
      "outputs": []
    },
    {
      "cell_type": "code",
      "metadata": {
        "colab": {
          "base_uri": "https://localhost:8080/"
        },
        "id": "jU44cMrKIumd",
        "outputId": "1d6a56f1-f0c6-499a-a718-a61ec5494b64"
      },
      "source": [
        "model = models.Sequential()\n",
        "model.add(layers.Conv2D(256, (3,3), activation='relu', input_shape=(32, 32, 3)))\n",
        "model.add(layers.MaxPooling2D(2, 2))\n",
        "model.add(layers.Conv2D(256, (3,3), activation='relu'))\n",
        "model.add(layers.MaxPooling2D(2,2))\n",
        "model.add(layers.Conv2D(256, (3,3), activation='relu'))\n",
        "model.add(layers.MaxPooling2D(2, 2))\n",
        "\n",
        "model.add(layers.Flatten())\n",
        "model.add(layers.Dropout(0.5))\n",
        "model.add(layers.Dense(1024, activation='relu'))\n",
        "model.add(layers.Dense(20))\n",
        "model.summary()"
      ],
      "execution_count": null,
      "outputs": [
        {
          "output_type": "stream",
          "name": "stdout",
          "text": [
            "Model: \"sequential_1\"\n",
            "_________________________________________________________________\n",
            " Layer (type)                Output Shape              Param #   \n",
            "=================================================================\n",
            " conv2d_3 (Conv2D)           (None, 30, 30, 256)       7168      \n",
            "                                                                 \n",
            " max_pooling2d_3 (MaxPooling  (None, 15, 15, 256)      0         \n",
            " 2D)                                                             \n",
            "                                                                 \n",
            " conv2d_4 (Conv2D)           (None, 13, 13, 256)       590080    \n",
            "                                                                 \n",
            " max_pooling2d_4 (MaxPooling  (None, 6, 6, 256)        0         \n",
            " 2D)                                                             \n",
            "                                                                 \n",
            " conv2d_5 (Conv2D)           (None, 4, 4, 256)         590080    \n",
            "                                                                 \n",
            " max_pooling2d_5 (MaxPooling  (None, 2, 2, 256)        0         \n",
            " 2D)                                                             \n",
            "                                                                 \n",
            " flatten_1 (Flatten)         (None, 1024)              0         \n",
            "                                                                 \n",
            " dropout_1 (Dropout)         (None, 1024)              0         \n",
            "                                                                 \n",
            " dense_2 (Dense)             (None, 1024)              1049600   \n",
            "                                                                 \n",
            " dense_3 (Dense)             (None, 20)                20500     \n",
            "                                                                 \n",
            "=================================================================\n",
            "Total params: 2,257,428\n",
            "Trainable params: 2,257,428\n",
            "Non-trainable params: 0\n",
            "_________________________________________________________________\n"
          ]
        }
      ]
    },
    {
      "cell_type": "code",
      "metadata": {
        "colab": {
          "base_uri": "https://localhost:8080/"
        },
        "id": "unTxoh0RIuo4",
        "outputId": "604a8ea8-8b79-4692-9411-ab162ca5b7e9"
      },
      "source": [
        "model.compile(loss =tf.keras.losses.SparseCategoricalCrossentropy(from_logits=True), optimizer='rmsprop', metrics=['accuracy'])\n",
        "\n",
        "history=model.fit(train_images, train_labels, epochs=25, batch_size=250,\n",
        "                  validation_data=(test_images, test_labels))"
      ],
      "execution_count": null,
      "outputs": [
        {
          "output_type": "stream",
          "name": "stdout",
          "text": [
            "Epoch 1/25\n",
            "200/200 [==============================] - 21s 94ms/step - loss: 1.0212 - accuracy: 0.6737 - val_loss: 1.3767 - val_accuracy: 0.5716\n",
            "Epoch 2/25\n",
            "200/200 [==============================] - 19s 94ms/step - loss: 0.9409 - accuracy: 0.6965 - val_loss: 1.4487 - val_accuracy: 0.5546\n",
            "Epoch 3/25\n",
            "200/200 [==============================] - 19s 93ms/step - loss: 0.9026 - accuracy: 0.7093 - val_loss: 1.3588 - val_accuracy: 0.5781\n",
            "Epoch 4/25\n",
            "200/200 [==============================] - 19s 94ms/step - loss: 0.8653 - accuracy: 0.7177 - val_loss: 1.3468 - val_accuracy: 0.5905\n",
            "Epoch 5/25\n",
            "200/200 [==============================] - 19s 93ms/step - loss: 0.8236 - accuracy: 0.7311 - val_loss: 1.3126 - val_accuracy: 0.6021\n",
            "Epoch 6/25\n",
            "200/200 [==============================] - 19s 93ms/step - loss: 0.7885 - accuracy: 0.7431 - val_loss: 1.3112 - val_accuracy: 0.6009\n",
            "Epoch 7/25\n",
            "200/200 [==============================] - 19s 94ms/step - loss: 0.7611 - accuracy: 0.7505 - val_loss: 1.3920 - val_accuracy: 0.5727\n",
            "Epoch 8/25\n",
            "200/200 [==============================] - 19s 94ms/step - loss: 0.7306 - accuracy: 0.7610 - val_loss: 1.4542 - val_accuracy: 0.5687\n",
            "Epoch 9/25\n",
            "200/200 [==============================] - 19s 94ms/step - loss: 0.7030 - accuracy: 0.7677 - val_loss: 1.3320 - val_accuracy: 0.5977\n",
            "Epoch 10/25\n",
            "200/200 [==============================] - 19s 93ms/step - loss: 0.6775 - accuracy: 0.7759 - val_loss: 1.3947 - val_accuracy: 0.5841\n",
            "Epoch 11/25\n",
            "200/200 [==============================] - 19s 94ms/step - loss: 0.6615 - accuracy: 0.7805 - val_loss: 1.3815 - val_accuracy: 0.5913\n",
            "Epoch 12/25\n",
            "200/200 [==============================] - 19s 94ms/step - loss: 0.6321 - accuracy: 0.7903 - val_loss: 1.4005 - val_accuracy: 0.5921\n",
            "Epoch 13/25\n",
            "200/200 [==============================] - 19s 93ms/step - loss: 0.6141 - accuracy: 0.7964 - val_loss: 1.4263 - val_accuracy: 0.5957\n",
            "Epoch 14/25\n",
            "200/200 [==============================] - 19s 94ms/step - loss: 0.5950 - accuracy: 0.8024 - val_loss: 1.4013 - val_accuracy: 0.5982\n",
            "Epoch 15/25\n",
            "200/200 [==============================] - 19s 94ms/step - loss: 0.5760 - accuracy: 0.8099 - val_loss: 1.3993 - val_accuracy: 0.6001\n",
            "Epoch 16/25\n",
            "200/200 [==============================] - 19s 94ms/step - loss: 0.5598 - accuracy: 0.8165 - val_loss: 1.3887 - val_accuracy: 0.6047\n",
            "Epoch 17/25\n",
            "200/200 [==============================] - 19s 94ms/step - loss: 0.5476 - accuracy: 0.8188 - val_loss: 1.4345 - val_accuracy: 0.6065\n",
            "Epoch 18/25\n",
            "200/200 [==============================] - 19s 93ms/step - loss: 0.5283 - accuracy: 0.8250 - val_loss: 1.4840 - val_accuracy: 0.5939\n",
            "Epoch 19/25\n",
            "200/200 [==============================] - 19s 94ms/step - loss: 0.5166 - accuracy: 0.8281 - val_loss: 1.4674 - val_accuracy: 0.6012\n",
            "Epoch 20/25\n",
            "200/200 [==============================] - 19s 94ms/step - loss: 0.5044 - accuracy: 0.8326 - val_loss: 1.4356 - val_accuracy: 0.6066\n",
            "Epoch 21/25\n",
            "200/200 [==============================] - 19s 95ms/step - loss: 0.4938 - accuracy: 0.8363 - val_loss: 1.4406 - val_accuracy: 0.6015\n",
            "Epoch 22/25\n",
            "200/200 [==============================] - 19s 93ms/step - loss: 0.4864 - accuracy: 0.8393 - val_loss: 1.4484 - val_accuracy: 0.5887\n",
            "Epoch 23/25\n",
            "200/200 [==============================] - 19s 93ms/step - loss: 0.4683 - accuracy: 0.8448 - val_loss: 1.4912 - val_accuracy: 0.5964\n",
            "Epoch 24/25\n",
            "200/200 [==============================] - 19s 93ms/step - loss: 0.4602 - accuracy: 0.8476 - val_loss: 1.5043 - val_accuracy: 0.5914\n",
            "Epoch 25/25\n",
            "200/200 [==============================] - 19s 94ms/step - loss: 0.4560 - accuracy: 0.8503 - val_loss: 1.4999 - val_accuracy: 0.6016\n"
          ]
        }
      ]
    },
    {
      "cell_type": "code",
      "metadata": {
        "colab": {
          "base_uri": "https://localhost:8080/",
          "height": 300
        },
        "id": "Rj3HY6ytIurW",
        "outputId": "7beb2687-2bdc-4d83-a805-6cb6cef418a4"
      },
      "source": [
        "plt.plot(history.history['accuracy'], label='accuracy')\n",
        "plt.plot(history.history['val_accuracy'], label = 'val_accuracy')\n",
        "plt.xlabel('Epoch')\n",
        "plt.ylabel('Accuracy')\n",
        "plt.ylim([0.1, 1])\n",
        "plt.legend(loc='lower right')\n",
        "\n",
        "test_loss, test_acc = model.evaluate(test_images,  test_labels, verbose=2)"
      ],
      "execution_count": null,
      "outputs": [
        {
          "output_type": "stream",
          "name": "stdout",
          "text": [
            "313/313 - 3s - loss: 1.4999 - accuracy: 0.6016 - 3s/epoch - 8ms/step\n"
          ]
        },
        {
          "output_type": "display_data",
          "data": {
            "image/png": "[encoded data removed]",
            "text/plain": [
              "<Figure size 432x288 with 1 Axes>"
            ]
          },
          "metadata": {
            "needs_background": "light"
          }
        }
      ]
    },
    {
      "cell_type": "code",
      "metadata": {
        "colab": {
          "base_uri": "https://localhost:8080/"
        },
        "id": "ud-uRuffIuuK",
        "outputId": "516acd86-ec91-462b-d588-541a9128c589"
      },
      "source": [
        "print(test_acc)"
      ],
      "execution_count": null,
      "outputs": [
        {
          "output_type": "stream",
          "name": "stdout",
          "text": [
            "0.6015999913215637\n"
          ]
        }
      ]
    },
    {
      "cell_type": "code",
      "metadata": {
        "id": "0iBvt8n4Iuxn"
      },
      "source": [
        ""
      ],
      "execution_count": null,
      "outputs": []
    }
  ]
}