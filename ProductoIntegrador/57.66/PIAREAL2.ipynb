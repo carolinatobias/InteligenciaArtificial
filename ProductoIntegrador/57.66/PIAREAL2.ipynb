{
  "nbformat": 4,
  "nbformat_minor": 0,
  "metadata": {
    "colab": {
      "name": "PIAREAL2.ipynb",
      "provenance": [],
      "authorship_tag": "ABX9TyPkvvrwr5LCUttZKex8T7Tg",
      "include_colab_link": true
    },
    "kernelspec": {
      "name": "python3",
      "display_name": "Python 3"
    },
    "language_info": {
      "name": "python"
    },
    "accelerator": "GPU"
  },
  "cells": [
    {
      "cell_type": "markdown",
      "metadata": {
        "id": "view-in-github",
        "colab_type": "text"
      },
      "source": [
        "<a href=\"https://colab.research.google.com/github/carolinatobias/InteligenciaArtificial/blob/main/PIAREAL2.ipynb\" target=\"_parent\"><img src=\"https://colab.research.google.com/assets/colab-badge.svg\" alt=\"Open In Colab\"/></a>"
      ]
    },
    {
      "cell_type": "markdown",
      "metadata": {
        "id": "gMyFbG8DAsT9"
      },
      "source": [
        " **PRODUCTO INTEGRADOR DE APRENDIZAJE**\n",
        "\n",
        "Carolina monserrat Tobía García 1806545\n",
        "Carlos Iván Ortiz Galván 1849283\n",
        "Oscar Daniel García Juárez 1844282\n",
        "Fabiola Alejandra Fabela Alvarado 1846452 \n",
        "Sebastián Alejandro Solis Quiróz 1816855 \n",
        "Oscar Josemario Gamboa Ortega\n",
        "\n",
        "Inteligencia Artificial Jueves N4"
      ]
    },
    {
      "cell_type": "code",
      "metadata": {
        "id": "DfDKSa3840Kh"
      },
      "source": [
        "import tensorflow as tf\n",
        "\n",
        "from tensorflow.keras import datasets, layers, models\n",
        "from keras.layers import Conv2D, Dense, MaxPooling2D, Flatten\n",
        "import matplotlib.pyplot as plt\n",
        "import numpy as np"
      ],
      "execution_count": null,
      "outputs": []
    },
    {
      "cell_type": "code",
      "metadata": {
        "id": "qFxB9oJJ41PF"
      },
      "source": [
        "import keras\n",
        "from keras.datasets import cifar100\n",
        "(train_images, train_labels), (test_images, test_labels) = datasets.cifar100.load_data(label_mode='coarse')\n",
        "train_images = train_images / 255.0\n",
        "test_images = test_images / 255.0"
      ],
      "execution_count": null,
      "outputs": []
    },
    {
      "cell_type": "code",
      "metadata": {
        "colab": {
          "base_uri": "https://localhost:8080/"
        },
        "id": "JWL_Oa-443wT",
        "outputId": "b2a5b86e-0e23-42cf-bb9c-a33bbc773a5b"
      },
      "source": [
        "model = models.Sequential()\n",
        "model.add(layers.Conv2D(256, (3,3), activation='relu', input_shape=(32, 32, 3)))\n",
        "model.add(layers.MaxPooling2D(2, 2))\n",
        "model.add(layers.Conv2D(256, (3,3), activation='relu'))\n",
        "model.add(layers.MaxPooling2D(2,2))\n",
        "model.add(layers.Conv2D(256, (3,3), activation='relu'))\n",
        "model.add(layers.MaxPooling2D(2, 2))\n",
        "\n",
        "model.add(layers.Flatten())\n",
        "model.add(layers.Dropout(0.5))\n",
        "model.add(layers.Dense(512, activation='relu'))\n",
        "model.add(layers.Dense(20))\n",
        "model.summary()"
      ],
      "execution_count": null,
      "outputs": [
        {
          "output_type": "stream",
          "name": "stdout",
          "text": [
            "Model: \"sequential_3\"\n",
            "_________________________________________________________________\n",
            " Layer (type)                Output Shape              Param #   \n",
            "=================================================================\n",
            " conv2d_9 (Conv2D)           (None, 30, 30, 256)       7168      \n",
            "                                                                 \n",
            " max_pooling2d_9 (MaxPooling  (None, 15, 15, 256)      0         \n",
            " 2D)                                                             \n",
            "                                                                 \n",
            " conv2d_10 (Conv2D)          (None, 13, 13, 256)       590080    \n",
            "                                                                 \n",
            " max_pooling2d_10 (MaxPoolin  (None, 6, 6, 256)        0         \n",
            " g2D)                                                            \n",
            "                                                                 \n",
            " conv2d_11 (Conv2D)          (None, 4, 4, 256)         590080    \n",
            "                                                                 \n",
            " max_pooling2d_11 (MaxPoolin  (None, 2, 2, 256)        0         \n",
            " g2D)                                                            \n",
            "                                                                 \n",
            " flatten_3 (Flatten)         (None, 1024)              0         \n",
            "                                                                 \n",
            " dropout_3 (Dropout)         (None, 1024)              0         \n",
            "                                                                 \n",
            " dense_8 (Dense)             (None, 512)               524800    \n",
            "                                                                 \n",
            " dense_9 (Dense)             (None, 20)                10260     \n",
            "                                                                 \n",
            "=================================================================\n",
            "Total params: 1,722,388\n",
            "Trainable params: 1,722,388\n",
            "Non-trainable params: 0\n",
            "_________________________________________________________________\n"
          ]
        }
      ]
    },
    {
      "cell_type": "code",
      "metadata": {
        "colab": {
          "base_uri": "https://localhost:8080/"
        },
        "id": "IXXoWnWe47DG",
        "outputId": "4ce5d651-9d18-4524-dab5-cb39e5e49fea"
      },
      "source": [
        "model.compile(loss =tf.keras.losses.SparseCategoricalCrossentropy(from_logits=True), optimizer='rmsprop', metrics=['accuracy'])\n",
        "\n",
        "history=model.fit(train_images, train_labels, epochs=15, batch_size=100,\n",
        "                  validation_data=(test_images, test_labels))"
      ],
      "execution_count": null,
      "outputs": [
        {
          "output_type": "stream",
          "name": "stdout",
          "text": [
            "Epoch 1/15\n",
            "500/500 [==============================] - 23s 45ms/step - loss: 2.2728 - accuracy: 0.3028 - val_loss: 2.0261 - val_accuracy: 0.3687\n",
            "Epoch 2/15\n",
            "500/500 [==============================] - 22s 44ms/step - loss: 1.9979 - accuracy: 0.3857 - val_loss: 1.8250 - val_accuracy: 0.4326\n",
            "Epoch 3/15\n",
            "500/500 [==============================] - 22s 44ms/step - loss: 1.8339 - accuracy: 0.4322 - val_loss: 1.6733 - val_accuracy: 0.4833\n",
            "Epoch 4/15\n",
            "500/500 [==============================] - 22s 44ms/step - loss: 1.7037 - accuracy: 0.4690 - val_loss: 1.5759 - val_accuracy: 0.5088\n",
            "Epoch 5/15\n",
            "500/500 [==============================] - 22s 44ms/step - loss: 1.5973 - accuracy: 0.5017 - val_loss: 1.6759 - val_accuracy: 0.4899\n",
            "Epoch 6/15\n",
            "500/500 [==============================] - 22s 44ms/step - loss: 1.5191 - accuracy: 0.5267 - val_loss: 1.4752 - val_accuracy: 0.5373\n",
            "Epoch 7/15\n",
            "500/500 [==============================] - 22s 43ms/step - loss: 1.4455 - accuracy: 0.5459 - val_loss: 1.5224 - val_accuracy: 0.5313\n",
            "Epoch 8/15\n",
            "500/500 [==============================] - 22s 43ms/step - loss: 1.3771 - accuracy: 0.5697 - val_loss: 1.4200 - val_accuracy: 0.5599\n",
            "Epoch 9/15\n",
            "500/500 [==============================] - 22s 43ms/step - loss: 1.3211 - accuracy: 0.5852 - val_loss: 1.4602 - val_accuracy: 0.5431\n",
            "Epoch 10/15\n",
            "500/500 [==============================] - 22s 43ms/step - loss: 1.2717 - accuracy: 0.5970 - val_loss: 1.4258 - val_accuracy: 0.5557\n",
            "Epoch 11/15\n",
            "500/500 [==============================] - 22s 43ms/step - loss: 1.2243 - accuracy: 0.6109 - val_loss: 1.3888 - val_accuracy: 0.5679\n",
            "Epoch 12/15\n",
            "500/500 [==============================] - 22s 43ms/step - loss: 1.1838 - accuracy: 0.6250 - val_loss: 1.3690 - val_accuracy: 0.5727\n",
            "Epoch 13/15\n",
            "500/500 [==============================] - 22s 43ms/step - loss: 1.1435 - accuracy: 0.6359 - val_loss: 1.3559 - val_accuracy: 0.5735\n",
            "Epoch 14/15\n",
            "500/500 [==============================] - 22s 43ms/step - loss: 1.1052 - accuracy: 0.6481 - val_loss: 1.4098 - val_accuracy: 0.5644\n",
            "Epoch 15/15\n",
            "500/500 [==============================] - 22s 43ms/step - loss: 1.0699 - accuracy: 0.6599 - val_loss: 1.3566 - val_accuracy: 0.5766\n"
          ]
        }
      ]
    },
    {
      "cell_type": "code",
      "metadata": {
        "colab": {
          "base_uri": "https://localhost:8080/",
          "height": 300
        },
        "id": "sYxSOfa14_as",
        "outputId": "d41e2043-3e50-40d0-d9a4-648367ddb193"
      },
      "source": [
        "plt.plot(history.history['accuracy'], label='accuracy')\n",
        "plt.plot(history.history['val_accuracy'], label = 'val_accuracy')\n",
        "plt.xlabel('Epoch')\n",
        "plt.ylabel('Accuracy')\n",
        "plt.ylim([0.1, 1])\n",
        "plt.legend(loc='lower right')\n",
        "\n",
        "test_loss, test_acc = model.evaluate(test_images,  test_labels, verbose=2)"
      ],
      "execution_count": null,
      "outputs": [
        {
          "output_type": "stream",
          "name": "stdout",
          "text": [
            "313/313 - 3s - loss: 1.3566 - accuracy: 0.5766 - 3s/epoch - 9ms/step\n"
          ]
        },
        {
          "output_type": "display_data",
          "data": {
            "image/png": "[encoded data removed]",
            "text/plain": [
              "<Figure size 432x288 with 1 Axes>"
            ]
          },
          "metadata": {
            "needs_background": "light"
          }
        }
      ]
    },
    {
      "cell_type": "code",
      "metadata": {
        "colab": {
          "base_uri": "https://localhost:8080/"
        },
        "id": "Ii1B9_8FAofE",
        "outputId": "b71d18c1-4210-4390-af3d-9a8d609e0065"
      },
      "source": [
        "print(test_acc)"
      ],
      "execution_count": null,
      "outputs": [
        {
          "output_type": "stream",
          "name": "stdout",
          "text": [
            "0.5766000151634216\n"
          ]
        }
      ]
    },
    {
      "cell_type": "code",
      "metadata": {
        "id": "3PLF3oZfAqxN"
      },
      "source": [
        ""
      ],
      "execution_count": null,
      "outputs": []
    }
  ]
}
