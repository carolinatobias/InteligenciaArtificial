{
  "nbformat": 4,
  "nbformat_minor": 0,
  "metadata": {
    "colab": {
      "name": "PIAFINAL3.ipynb",
      "provenance": [],
      "authorship_tag": "ABX9TyMY+48E0fOZaLu+1Dk23lg4",
      "include_colab_link": true
    },
    "kernelspec": {
      "name": "python3",
      "display_name": "Python 3"
    },
    "language_info": {
      "name": "python"
    },
    "accelerator": "GPU"
  },
  "cells": [
    {
      "cell_type": "markdown",
      "metadata": {
        "id": "view-in-github",
        "colab_type": "text"
      },
      "source": [
        "<a href=\"https://colab.research.google.com/github/carolinatobias/InteligenciaArtificial/blob/main/PIAFINAL3.ipynb\" target=\"_parent\"><img src=\"https://colab.research.google.com/assets/colab-badge.svg\" alt=\"Open In Colab\"/></a>"
      ]
    },
    {
      "cell_type": "markdown",
      "metadata": {
        "id": "dGJ9UoegBt5o"
      },
      "source": [
        " **PRODUCTO INTEGRADOR DE APRENDIZAJE**\n",
        "\n",
        "Carolina monserrat Tobía García 1806545\n",
        "Carlos Iván Ortiz Galván 1849283\n",
        "Oscar Daniel García Juárez 1844282\n",
        "Fabiola Alejandra Fabela Alvarado 1846452 \n",
        "Sebastián Alejandro Solis Quiróz 1816855 \n",
        "Oscar Josemario Gamboa Ortega 1867917\n",
        "\n",
        "Inteligencia Artificial Jueves N4"
      ]
    },
    {
      "cell_type": "code",
      "metadata": {
        "id": "gNcowkkCBN5q"
      },
      "source": [
        "import tensorflow as tf\n",
        "\n",
        "from tensorflow.keras import datasets, layers, models\n",
        "from keras.layers import Conv2D, Dense, MaxPooling2D, Flatten\n",
        "import matplotlib.pyplot as plt\n",
        "import numpy as np"
      ],
      "execution_count": null,
      "outputs": []
    },
    {
      "cell_type": "code",
      "metadata": {
        "colab": {
          "base_uri": "https://localhost:8080/"
        },
        "id": "Pmzq-29IBQeQ",
        "outputId": "cd705c59-97d2-4290-fe01-aae9bd7fcf69"
      },
      "source": [
        "import keras\n",
        "from keras.datasets import cifar100\n",
        "(train_images, train_labels), (test_images, test_labels) = datasets.cifar100.load_data(label_mode='coarse')\n",
        "train_images = train_images / 255.0\n",
        "test_images = test_images / 255.0"
      ],
      "execution_count": null,
      "outputs": [
        {
          "output_type": "stream",
          "name": "stdout",
          "text": [
            "Downloading data from https://www.cs.toronto.edu/~kriz/cifar-100-python.tar.gz\n",
            "169009152/169001437 [==============================] - 6s 0us/step\n",
            "169017344/169001437 [==============================] - 6s 0us/step\n"
          ]
        }
      ]
    },
    {
      "cell_type": "code",
      "metadata": {
        "id": "OW7zj_7bBS0z"
      },
      "source": [
        "model = models.Sequential()\n",
        "model.add(layers.Conv2D(256, (3,3), activation='relu', input_shape=(32, 32, 3)))\n",
        "model.add(layers.MaxPooling2D(2, 2))\n",
        "model.add(layers.Conv2D(256, (3,3), activation='relu'))\n",
        "model.add(layers.MaxPooling2D(2,2))\n",
        "model.add(layers.Conv2D(256, (3,3), activation='relu'))\n",
        "model.add(layers.MaxPooling2D(2, 2))\n",
        "\n",
        "model.add(layers.Flatten())\n",
        "model.add(layers.Dropout(0.5))\n",
        "model.add(layers.Dense(512, activation='relu'))\n",
        "model.add(layers.Dense(20))"
      ],
      "execution_count": null,
      "outputs": []
    },
    {
      "cell_type": "code",
      "metadata": {
        "colab": {
          "base_uri": "https://localhost:8080/"
        },
        "id": "XSpS0D_gBTBL",
        "outputId": "c9bae9f6-6243-45e8-ccb5-6fa4a45bcda5"
      },
      "source": [
        "model.summary()\n",
        "\n",
        "model.compile(loss =tf.keras.losses.SparseCategoricalCrossentropy(from_logits=True), optimizer='rmsprop', metrics=['accuracy'])\n",
        "\n",
        "history=model.fit(train_images, train_labels, epochs=25, batch_size=100,\n",
        "                  validation_data=(test_images, test_labels))"
      ],
      "execution_count": null,
      "outputs": [
        {
          "output_type": "stream",
          "name": "stdout",
          "text": [
            "Model: \"sequential\"\n",
            "_________________________________________________________________\n",
            " Layer (type)                Output Shape              Param #   \n",
            "=================================================================\n",
            " conv2d (Conv2D)             (None, 30, 30, 256)       7168      \n",
            "                                                                 \n",
            " max_pooling2d (MaxPooling2D  (None, 15, 15, 256)      0         \n",
            " )                                                               \n",
            "                                                                 \n",
            " conv2d_1 (Conv2D)           (None, 13, 13, 256)       590080    \n",
            "                                                                 \n",
            " max_pooling2d_1 (MaxPooling  (None, 6, 6, 256)        0         \n",
            " 2D)                                                             \n",
            "                                                                 \n",
            " conv2d_2 (Conv2D)           (None, 4, 4, 256)         590080    \n",
            "                                                                 \n",
            " max_pooling2d_2 (MaxPooling  (None, 2, 2, 256)        0         \n",
            " 2D)                                                             \n",
            "                                                                 \n",
            " flatten (Flatten)           (None, 1024)              0         \n",
            "                                                                 \n",
            " dropout (Dropout)           (None, 1024)              0         \n",
            "                                                                 \n",
            " dense (Dense)               (None, 512)               524800    \n",
            "                                                                 \n",
            " dense_1 (Dense)             (None, 20)                10260     \n",
            "                                                                 \n",
            "=================================================================\n",
            "Total params: 1,722,388\n",
            "Trainable params: 1,722,388\n",
            "Non-trainable params: 0\n",
            "_________________________________________________________________\n",
            "Epoch 1/25\n",
            "500/500 [==============================] - 53s 44ms/step - loss: 2.5809 - accuracy: 0.2038 - val_loss: 2.2183 - val_accuracy: 0.3109\n",
            "Epoch 2/25\n",
            "500/500 [==============================] - 22s 44ms/step - loss: 2.1663 - accuracy: 0.3350 - val_loss: 1.9286 - val_accuracy: 0.4029\n",
            "Epoch 3/25\n",
            "500/500 [==============================] - 22s 44ms/step - loss: 1.9449 - accuracy: 0.3998 - val_loss: 1.9207 - val_accuracy: 0.4031\n",
            "Epoch 4/25\n",
            "500/500 [==============================] - 22s 44ms/step - loss: 1.7930 - accuracy: 0.4439 - val_loss: 1.6982 - val_accuracy: 0.4707\n",
            "Epoch 5/25\n",
            "500/500 [==============================] - 22s 44ms/step - loss: 1.6815 - accuracy: 0.4753 - val_loss: 1.7166 - val_accuracy: 0.4706\n",
            "Epoch 6/25\n",
            "500/500 [==============================] - 22s 44ms/step - loss: 1.5895 - accuracy: 0.5049 - val_loss: 1.5992 - val_accuracy: 0.5023\n",
            "Epoch 7/25\n",
            "500/500 [==============================] - 22s 44ms/step - loss: 1.5064 - accuracy: 0.5309 - val_loss: 1.5084 - val_accuracy: 0.5214\n",
            "Epoch 8/25\n",
            "500/500 [==============================] - 22s 44ms/step - loss: 1.4442 - accuracy: 0.5456 - val_loss: 1.4830 - val_accuracy: 0.5399\n",
            "Epoch 9/25\n",
            "500/500 [==============================] - 22s 44ms/step - loss: 1.3797 - accuracy: 0.5643 - val_loss: 1.4609 - val_accuracy: 0.5449\n",
            "Epoch 10/25\n",
            "500/500 [==============================] - 22s 44ms/step - loss: 1.3227 - accuracy: 0.5824 - val_loss: 1.6180 - val_accuracy: 0.5012\n",
            "Epoch 11/25\n",
            "500/500 [==============================] - 22s 44ms/step - loss: 1.2769 - accuracy: 0.5966 - val_loss: 1.3936 - val_accuracy: 0.5664\n",
            "Epoch 12/25\n",
            "500/500 [==============================] - 22s 44ms/step - loss: 1.2358 - accuracy: 0.6084 - val_loss: 1.3974 - val_accuracy: 0.5638\n",
            "Epoch 13/25\n",
            "500/500 [==============================] - 22s 44ms/step - loss: 1.1970 - accuracy: 0.6227 - val_loss: 1.4242 - val_accuracy: 0.5620\n",
            "Epoch 14/25\n",
            "500/500 [==============================] - 22s 44ms/step - loss: 1.1593 - accuracy: 0.6332 - val_loss: 1.5111 - val_accuracy: 0.5454\n",
            "Epoch 15/25\n",
            "500/500 [==============================] - 22s 44ms/step - loss: 1.1274 - accuracy: 0.6443 - val_loss: 1.4300 - val_accuracy: 0.5617\n",
            "Epoch 16/25\n",
            "500/500 [==============================] - 22s 44ms/step - loss: 1.0964 - accuracy: 0.6523 - val_loss: 1.3657 - val_accuracy: 0.5775\n",
            "Epoch 17/25\n",
            "500/500 [==============================] - 22s 45ms/step - loss: 1.0784 - accuracy: 0.6580 - val_loss: 1.3865 - val_accuracy: 0.5768\n",
            "Epoch 18/25\n",
            "500/500 [==============================] - 22s 45ms/step - loss: 1.0514 - accuracy: 0.6686 - val_loss: 1.4157 - val_accuracy: 0.5654\n",
            "Epoch 19/25\n",
            "500/500 [==============================] - 22s 45ms/step - loss: 1.0322 - accuracy: 0.6729 - val_loss: 1.3871 - val_accuracy: 0.5940\n",
            "Epoch 20/25\n",
            "500/500 [==============================] - 22s 45ms/step - loss: 1.0174 - accuracy: 0.6763 - val_loss: 1.3959 - val_accuracy: 0.5729\n",
            "Epoch 21/25\n",
            "500/500 [==============================] - 22s 45ms/step - loss: 1.0031 - accuracy: 0.6854 - val_loss: 1.3707 - val_accuracy: 0.5793\n",
            "Epoch 22/25\n",
            "500/500 [==============================] - 22s 45ms/step - loss: 0.9859 - accuracy: 0.6881 - val_loss: 1.4061 - val_accuracy: 0.5778\n",
            "Epoch 23/25\n",
            "500/500 [==============================] - 22s 45ms/step - loss: 0.9827 - accuracy: 0.6924 - val_loss: 1.4191 - val_accuracy: 0.5781\n",
            "Epoch 24/25\n",
            "500/500 [==============================] - 22s 44ms/step - loss: 0.9747 - accuracy: 0.6956 - val_loss: 1.4369 - val_accuracy: 0.5751\n",
            "Epoch 25/25\n",
            "500/500 [==============================] - 22s 44ms/step - loss: 0.9572 - accuracy: 0.7019 - val_loss: 1.4125 - val_accuracy: 0.5817\n"
          ]
        }
      ]
    },
    {
      "cell_type": "code",
      "metadata": {
        "colab": {
          "base_uri": "https://localhost:8080/",
          "height": 300
        },
        "id": "fR1iYgvrBZ2J",
        "outputId": "a113a38e-8a43-4803-b051-8b52176eb2e1"
      },
      "source": [
        "plt.plot(history.history['accuracy'], label='accuracy')\n",
        "plt.plot(history.history['val_accuracy'], label = 'val_accuracy')\n",
        "plt.xlabel('Epoch')\n",
        "plt.ylabel('Accuracy')\n",
        "plt.ylim([0.1, 1])\n",
        "plt.legend(loc='lower right')\n",
        "\n",
        "test_loss, test_acc = model.evaluate(test_images,  test_labels, verbose=2)"
      ],
      "execution_count": null,
      "outputs": [
        {
          "output_type": "stream",
          "name": "stdout",
          "text": [
            "313/313 - 3s - loss: 1.4125 - accuracy: 0.5817 - 3s/epoch - 9ms/step\n"
          ]
        },
        {
          "output_type": "display_data",
          "data": {
            "image/png": "[encoded data removed]",
            "text/plain": [
              "<Figure size 432x288 with 1 Axes>"
            ]
          },
          "metadata": {
            "needs_background": "light"
          }
        }
      ]
    },
    {
      "cell_type": "code",
      "metadata": {
        "colab": {
          "base_uri": "https://localhost:8080/"
        },
        "id": "qYW48KRmEamv",
        "outputId": "3a653da7-bca9-463a-f170-fba946451f1f"
      },
      "source": [
        "print(test_acc)"
      ],
      "execution_count": null,
      "outputs": [
        {
          "output_type": "stream",
          "name": "stdout",
          "text": [
            "0.5817000269889832\n"
          ]
        }
      ]
    },
    {
      "cell_type": "code",
      "metadata": {
        "id": "fH9K6z-IEeZL"
      },
      "source": [
        ""
      ],
      "execution_count": null,
      "outputs": []
    }
  ]
}
