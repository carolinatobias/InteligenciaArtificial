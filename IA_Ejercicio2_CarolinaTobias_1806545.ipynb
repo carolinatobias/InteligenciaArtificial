{
  "nbformat": 4,
  "nbformat_minor": 0,
  "metadata": {
    "colab": {
      "name": "IA_CarolinaTobias_1806545.ipynb",
      "provenance": [],
      "collapsed_sections": [],
      "authorship_tag": "ABX9TyOz49WZXdWcEOmDxYpEWDm1",
      "include_colab_link": true
    },
    "kernelspec": {
      "name": "python3",
      "display_name": "Python 3"
    },
    "language_info": {
      "name": "python"
    }
  },
  "cells": [
    {
      "cell_type": "markdown",
      "metadata": {
        "id": "view-in-github",
        "colab_type": "text"
      },
      "source": [
        "<a href=\"https://colab.research.google.com/github/carolinatobias/InteligenciaArtificial/blob/main/IA_Ejercicio2_CarolinaTobias_1806545.ipynb\" target=\"_parent\"><img src=\"https://colab.research.google.com/assets/colab-badge.svg\" alt=\"Open In Colab\"/></a>"
      ]
    },
    {
      "cell_type": "markdown",
      "metadata": {
        "id": "r-vDFiSsNkjl"
      },
      "source": [
        "Actividad 3. Ejercicios de  introducción a Phyton 2da parte\n",
        "\n",
        " Nombre: Carolina Monserrat Tobías García\n",
        "\n",
        " Matrícula: 1806545\n",
        " \n",
        " Clase y hora: Inteligencia Artificial Jueves N4"
      ]
    },
    {
      "cell_type": "markdown",
      "metadata": {
        "id": "Nz2CV4pYtq-t"
      },
      "source": [
        "Ejercicio 1:\n",
        "1.1 Piensa en 7 comidas diferente que te gusten. Implementa un programa que pregunte por las 7 comidas, las almacene en una lista y que posteriermente imprima cada una de ellas utilizando uno de los ciclos comentados en clase"
      ]
    },
    {
      "cell_type": "code",
      "metadata": {
        "colab": {
          "base_uri": "https://localhost:8080/"
        },
        "id": "Vihsf--cNj1N",
        "outputId": "6a5e46f9-26b5-4447-90bc-e78c45d30cdd"
      },
      "source": [
        "comida1 = input(\"Ingrese 7 comidas distintas. 1: \") #preguntar por las comidas\n",
        "comida2 = input(\"2: \") \n",
        "comida3 = input(\"3: \")\n",
        "comida4 = input(\"4: \")\n",
        "comida5 = input(\"5: \")\n",
        "comida6 = input(\"6: \")\n",
        "comida7 = input(\"7: \")\n",
        "lista = [comida1, comida2, comida3, comida4, comida5, comida6, comida7] #hacer una lista con las 7 comidas\n",
        "for x in lista:\n",
        "  print(x) #imprimir lista"
      ],
      "execution_count": 1,
      "outputs": [
        {
          "output_type": "stream",
          "name": "stdout",
          "text": [
            "Ingrese 7 comidas distintas. 1: pollo\n",
            "2: cereal\n",
            "3: aguacate\n",
            "4: mango\n",
            "5: fresa\n",
            "6: crepas\n",
            "7: pastel\n",
            "pollo\n",
            "cereal\n",
            "aguacate\n",
            "mango\n",
            "fresa\n",
            "crepas\n",
            "pastel\n"
          ]
        }
      ]
    },
    {
      "cell_type": "markdown",
      "metadata": {
        "id": "B6zvO1L_twFZ"
      },
      "source": [
        "1.2 Modifica el ejercicio 1.1 para que imprima cada una de las comidas favoritas junto con una oracición inicial: \"Una de mis comidas favoritas es [comida1]\".  \n"
      ]
    },
    {
      "cell_type": "code",
      "metadata": {
        "colab": {
          "base_uri": "https://localhost:8080/"
        },
        "id": "0NFNjCg3PSoU",
        "outputId": "6bdcea94-65ba-4541-be55-ac50173343bb"
      },
      "source": [
        "comida1 = input(\"Ingrese 7 comidas distintas. 1: \")\n",
        "comida2 = input(\"2: \")\n",
        "comida3 = input(\"3: \")\n",
        "comida4 = input(\"4: \")\n",
        "comida5 = input(\"5: \")\n",
        "comida6 = input(\"6: \")\n",
        "comida7 = input(\"7: \")\n",
        "lista = [comida1, comida2, comida3, comida4, comida5, comida6, comida7]\n",
        "for x in lista:\n",
        "   print(\"una de mis comidas favorits es: \" +x)"
      ],
      "execution_count": 2,
      "outputs": [
        {
          "output_type": "stream",
          "name": "stdout",
          "text": [
            "Ingrese 7 comidas distintas. 1: pollo\n",
            "2: cereal\n",
            "3: aguacate\n",
            "4: mango\n",
            "5: fresa\n",
            "6: crepas\n",
            "7: pastel\n",
            "una de mis comidas favorits es: pollo\n",
            "una de mis comidas favorits es: cereal\n",
            "una de mis comidas favorits es: aguacate\n",
            "una de mis comidas favorits es: mango\n",
            "una de mis comidas favorits es: fresa\n",
            "una de mis comidas favorits es: crepas\n",
            "una de mis comidas favorits es: pastel\n"
          ]
        }
      ]
    },
    {
      "cell_type": "markdown",
      "metadata": {
        "id": "gXzcSPket0-s"
      },
      "source": [
        "Ejercicio 2\n",
        "Crear un juego de piedra, papel o tijera de dos jugadores. El programa preguntará por la opción del jugador 1 y la opción del jugador 2 y dará como resultado quien ganó el juego."
      ]
    },
    {
      "cell_type": "code",
      "metadata": {
        "colab": {
          "base_uri": "https://localhost:8080/"
        },
        "id": "dL5G8ogcphIT",
        "outputId": "468d8a82-ba80-4562-cc31-6216288643ce"
      },
      "source": [
        "print(\"Juego: piedra papel o tijera\")   #imprimir \n",
        "print(\"1.Piedra    2.Papel    3.Tijera\") #asignar numero a cada opción\n",
        "op1 = int(input(\"Jugador 1, ingrese su elección: \")) #pedir eleccion del jugador 2\n",
        "op2 = int(input(\"Jugador 2, ingrese su elección: \")) #pedir elección del jugaor 2\n",
        "\n",
        "if op1 == 1:    #asignar \"piedra\" si eligió opcion 1\n",
        "   j1 = \"piedra\"\n",
        "elif op1 == 2:  #asignar \"papel\" si eligió opcion 2\n",
        "   j1 = \"papel\"\n",
        "elif op1 == 3:  #asignar \"tijera\" si eligió opcion 3\n",
        "   j1 = \"tijera\"\n",
        "\n",
        "if op2 == 1:    #asignar \"piedra\" si eligió opcion 1\n",
        "   j2 = \"piedra\"\n",
        "elif op2 == 2:  #asignar \"papel\" si eligió opcion 2\n",
        "   j2 = \"papel\"\n",
        "elif op2 == 3:  #asignar \"tijera\" si eligió opcion 3\n",
        "   j2 = \"tijera\"\n",
        "#comparar la opcion del jugador 1 con la del jugador 2, papel gana a piedra, piedra gana a tijera, tijera gana a papel\n",
        "if j1 == \"piedra\" and j2== \"papel\" :\n",
        "    print(\"Ganador: jugador 2\")\n",
        "elif j1 == \"papel\" and j2 == \"tijera\" :\n",
        "    print(\"Ganador: jugador 2\")\n",
        "elif j1 == \"tijera\" and j2== \"piedra\" : \n",
        "    print(\"Ganador: jugador 2\")\n",
        "if j1 == \"papel\" and j2== \"piedra\" :\n",
        "    print(\"Ganador: jugador 1\")\n",
        "elif j1 == \"tijera\" and j2 == \"papel\" :\n",
        "    print(\"Ganador: jugador 1\")\n",
        "elif j1 == \"piedra\" and j2== \"tijera\" :\n",
        "    print(\"Ganador: jugador 1\")\n",
        "elif j1 == j2: \n",
        "    print(\"empate\")"
      ],
      "execution_count": 3,
      "outputs": [
        {
          "output_type": "stream",
          "name": "stdout",
          "text": [
            "Juego: piedra papel o tijera\n",
            "1.Piedra    2.Papel    3.Tijera\n",
            "Jugador 1, ingrese su elección: 3\n",
            "Jugador 2, ingrese su elección: 2\n",
            "Ganador: jugador 1\n"
          ]
        }
      ]
    },
    {
      "cell_type": "code",
      "metadata": {
        "id": "OOcNotSksZG7"
      },
      "source": [
        ""
      ],
      "execution_count": null,
      "outputs": []
    },
    {
      "cell_type": "markdown",
      "metadata": {
        "id": "jaYHJOXGt5TO"
      },
      "source": [
        "Implementar un programa que imprima el siguiente patron:\n",
        "\n",
        "123456\n",
        "\n",
        "12345\n",
        "\n",
        "1234\n",
        "\n",
        "123\n",
        "\n",
        "12\n",
        "\n",
        "1\n",
        "\n",
        "12\n",
        "\n",
        "123\n",
        "\n",
        "1234\n",
        "\n",
        "12345\n",
        "\n",
        "123456"
      ]
    },
    {
      "cell_type": "code",
      "metadata": {
        "colab": {
          "base_uri": "https://localhost:8080/"
        },
        "id": "Cb70mKWrsZfX",
        "outputId": "247d319a-3cda-4e85-b01e-bd81f4c8e560"
      },
      "source": [
        "lista=[1,2,3,4,5,6]\n",
        "print(lista)     #imprimir lista completa\n",
        "print(lista[:5]) #imprimir de la posicion 0 a 4 (en la lista, del 1 al 5)\n",
        "print(lista[:4]) #imprimir de la posicion 0 a 3 (en la lista, del 1 al 4)\n",
        "print(lista[:3]) #imprimir de la posicion 0 a 2 (en la lista, del 1 al 3)\n",
        "print(lista[:2]) #imprimir de la posicion 0 a 1 (en la lista, del 1 al 2)\n",
        "print(lista[:1]) #imprimir de la posicion 0 (en la lista, el 1)\n",
        "print(lista[:2]) #imprimir de la posicion 0 a 1 (en la lista, del 1 al 2)\n",
        "print(lista[:3]) #imprimir de la posicion 0 a 2 (en la lista, del 1 al 3)\n",
        "print(lista[:4]) #imprimir de la posicion 0 a 3 (en la lista, del 1 al 4)\n",
        "print(lista[:5]) #imprimir de la posicion 0 a 4 (en la lista, del 1 al 5)\n",
        "print(lista)     #imprimir lista completa"
      ],
      "execution_count": 4,
      "outputs": [
        {
          "output_type": "stream",
          "name": "stdout",
          "text": [
            "[1, 2, 3, 4, 5, 6]\n",
            "[1, 2, 3, 4, 5]\n",
            "[1, 2, 3, 4]\n",
            "[1, 2, 3]\n",
            "[1, 2]\n",
            "[1]\n",
            "[1, 2]\n",
            "[1, 2, 3]\n",
            "[1, 2, 3, 4]\n",
            "[1, 2, 3, 4, 5]\n",
            "[1, 2, 3, 4, 5, 6]\n"
          ]
        }
      ]
    }
  ]
}